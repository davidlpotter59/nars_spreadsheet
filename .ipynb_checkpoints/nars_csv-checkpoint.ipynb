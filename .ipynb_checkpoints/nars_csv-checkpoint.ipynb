{
 "cells": [
  {
   "cell_type": "markdown",
   "metadata": {},
   "source": [
    "# This is the beginning of my code\n",
    "- import the NARS monthly spreadsheet\n",
    "- breakdown into individual sheets each company\n",
    "- for more information *http://www.junkcrap.com*"
   ]
  },
  {
   "cell_type": "code",
   "execution_count": 45,
   "metadata": {},
   "outputs": [],
   "source": [
    "#!/usr/bin/env python\n",
    "import pandas as pd\n",
    "import os\n",
    "import time\n",
    "import datetime\n",
    "pd.set_option('display.max_rows', 6600)\n",
    "pd.set_option('display.max_columns', 100)\n",
    "datestr = time.strftime(\"%Y%m%d_%H%M%S\")\n",
    "\n",
    "# Calculate the last day of the previous month to get the Accounting Date\n",
    "today = datetime.date.today()\n",
    "first = today.replace(day=1)\n",
    "lastMonth = first - datetime.timedelta(days=1)\n",
    "accdate = lastMonth.strftime(\"%Y%m%d\")\n",
    "\n",
    "xlsx_file = accdate + \"_\" + datestr+\"_nars_spreadsheet.xlsx\"\n",
    "input_file = \"nars.csv\"\n",
    "\n",
    "if os.path.exists(xlsx_file):\n",
    "    os.remove(xlsx_file)\n",
    "    \n",
    "nars_df = pd.read_csv(input_file, sep='|', header=0, encoding = \"ISO-8859-1\")"
   ]
  },
  {
   "cell_type": "code",
   "execution_count": 46,
   "metadata": {},
   "outputs": [],
   "source": [
    "# nars_df.set_index(['claim_nbr'], inplace=True)"
   ]
  },
  {
   "cell_type": "code",
   "execution_count": 47,
   "metadata": {},
   "outputs": [],
   "source": [
    "#  fixing bad dates\n",
    "nars_df['eff_date'] = pd.to_datetime(nars_df['eff_date'],  errors=\"coerce\")\n",
    "nars_df['exp_date'] = pd.to_datetime(nars_df['exp_date'],  errors=\"coerce\")\n",
    "nars_df['date_opened'] = pd.to_datetime(nars_df['date_opened'],  errors=\"coerce\")\n",
    "nars_df['date_closed'] = pd.to_datetime(nars_df['date_closed'],  errors=\"coerce\")\n",
    "nars_df['acc_date'] = pd.to_datetime(nars_df['acc_date'],  errors=\"coerce\")\n",
    "nars_df['date_reported'] = pd.to_datetime(nars_df['date_reported'],  errors=\"coerce\")\n",
    "nars_df['date_reopened'] = pd.to_datetime(nars_df['date_reopened'],  errors=\"coerce\")\n",
    "\n",
    "# create the eff_year variable - yes this could be done in one statement but\n",
    "# harder to debug\n",
    "nars_df['eff_year'] = nars_df['eff_date'].dt.to_period('Y')\n",
    "nars_df['policy_year'] = nars_df['eff_year']"
   ]
  },
  {
   "cell_type": "code",
   "execution_count": 48,
   "metadata": {},
   "outputs": [],
   "source": [
    "# nars_df['eff_date'] = nars_df['eff_date'].dt.date\n",
    "# \n"
   ]
  },
  {
   "cell_type": "code",
   "execution_count": 49,
   "metadata": {},
   "outputs": [],
   "source": [
    "# had to search for DELOS using the .contains since the client location contains a space \n",
    "delos_df = nars_df[nars_df['client_location'].str.contains(\"104\")] \n",
    "starr_df = nars_df[nars_df.client_location=='SILC']\n",
    "axis_df = nars_df[nars_df.client_location==\"AX1\"]\n",
    "gsn_df = nars_df[nars_df.client_location==\"SC2\"]"
   ]
  },
  {
   "cell_type": "code",
   "execution_count": 50,
   "metadata": {},
   "outputs": [],
   "source": [
    "# assign effective year for sorting - this does not work\n",
    "# delos_df['eff_year'] = delos_df['eff_date'].dt.to_period('Y')\n",
    "# starr_df['eff_year'] = starr_df['eff_date'].dt.to_period('Y')\n",
    "# axis_df['eff_year'] = axis_df['eff_date'].dt.to_period('Y')\n",
    "# gsn_df['eff_year'] = gsn_df['eff_date'].dt.to_period('Y')"
   ]
  },
  {
   "cell_type": "code",
   "execution_count": 51,
   "metadata": {},
   "outputs": [],
   "source": [
    "# nars_df = nars_df.infer_objects()\n",
    "# print(nars_df.dtypes)"
   ]
  },
  {
   "cell_type": "code",
   "execution_count": 52,
   "metadata": {},
   "outputs": [],
   "source": [
    "# print(nars_df['eff_date'])"
   ]
  },
  {
   "cell_type": "code",
   "execution_count": 53,
   "metadata": {},
   "outputs": [],
   "source": [
    "# new_date = pd.to_datetime(nars_df['eff_date'], format='%m/%d/%Y', errors='coerce')"
   ]
  },
  {
   "cell_type": "code",
   "execution_count": 54,
   "metadata": {},
   "outputs": [],
   "source": [
    "# new_date"
   ]
  },
  {
   "cell_type": "code",
   "execution_count": 55,
   "metadata": {},
   "outputs": [],
   "source": [
    "# nars_df.loc[612]"
   ]
  },
  {
   "cell_type": "code",
   "execution_count": 56,
   "metadata": {},
   "outputs": [],
   "source": [
    "# nars_df.loc[612]"
   ]
  },
  {
   "cell_type": "code",
   "execution_count": 57,
   "metadata": {},
   "outputs": [],
   "source": [
    "bad_df = nars_df.query('eff_date == \"NaT\"')"
   ]
  },
  {
   "cell_type": "code",
   "execution_count": 58,
   "metadata": {},
   "outputs": [],
   "source": [
    "# bad_df"
   ]
  },
  {
   "cell_type": "code",
   "execution_count": 59,
   "metadata": {},
   "outputs": [],
   "source": [
    "# bad_status_df = bad_df.query('claim_status != \"CLOSED\"')"
   ]
  },
  {
   "cell_type": "code",
   "execution_count": 16,
   "metadata": {},
   "outputs": [],
   "source": [
    "with pd.ExcelWriter(xlsx_file, \n",
    "                    date_format='yyyy-mm-dd', \n",
    "                    datetime_format='yyyy-mm-dd') as writer:  \n",
    "    nars_df.to_excel(writer, sheet_name=\"All - Detail\")\n",
    "    delos_df.to_excel(writer, sheet_name='DELOS - Detail')\n",
    "    starr_df.to_excel(writer, sheet_name='STARR - Detail')\n",
    "    axis_df.to_excel(writer, sheet_name='AXIS - Detail')\n",
    "    gsn_df.to_excel(writer, sheet_name='GSN - Detail')\n",
    "    bad_df.to_excel(writer, sheet_name=\"BAD RECORDS\")"
   ]
  },
  {
   "cell_type": "markdown",
   "metadata": {},
   "source": [
    "# Now do the claim count by year for each company\n",
    "- All Companies\n",
    "- Delos\n",
    "- Starr\n",
    "- Axis\n",
    "- Scor/GSN"
   ]
  },
  {
   "cell_type": "code",
   "execution_count": 60,
   "metadata": {},
   "outputs": [
    {
     "data": {
      "text/plain": [
       "client_location                                                      AX1\n",
       "profile_center                                                         1\n",
       "lob                                                                   PL\n",
       "agent                                WELLS FARGO INS. SERVICES USA, INC.\n",
       "insured                            UNITED STATES SOCCER FEDERATION, INC.\n",
       "insured_state                                                         IL\n",
       "policy_nbr                                                AXGL0410003011\n",
       "risk_st                                                               CA\n",
       "risk_nbr                                                             NaN\n",
       "policy_year                                                          NaT\n",
       "eff_date                                                             NaT\n",
       "exp_date                                                             NaT\n",
       "claim_nbr                                                   GGAX18020014\n",
       "claim_type                                             General Liability\n",
       "prev_claim_nbr                                                       NaN\n",
       "acc_date                                             2011-09-01 00:00:00\n",
       "description            Allegation of sexual abuse. Notice Only. See a...\n",
       "description2                                                         NaN\n",
       "acc_code                                                 EPL/Harrassment\n",
       "acc_location                                                         UNK\n",
       "acc_city                                                             UNK\n",
       "acc_state                                                             CA\n",
       "jurisdiction_state                                                   NaN\n",
       "claim_status                                                      CLOSED\n",
       "claim_adjuster                                              WHOFFMEISTER\n",
       "claim_term                                                     MTRAPASSO\n",
       "date_reported                                        2018-02-12 00:00:00\n",
       "date_opened                                          2018-02-13 00:00:00\n",
       "date_closed                                          2018-02-14 00:00:00\n",
       "date_reopened                                                        NaT\n",
       "cat_nbr                                                                0\n",
       "ind_paid                                                               0\n",
       "med_paid                                                               0\n",
       "exp_paid                                                               0\n",
       "alae_paid                                                              0\n",
       "ulae_paid                                                              0\n",
       "ind_reserve                                                            0\n",
       "med_reserve                                                            0\n",
       "exp_reserve                                                            0\n",
       "subr_recovery                                                       0.00\n",
       "salvage_recovery                                                    0.00\n",
       "deductible_recovery                                                 0.00\n",
       "net_incurred                                                           0\n",
       "eff_year                                                             NaT\n",
       "Name: 612, dtype: object"
      ]
     },
     "execution_count": 60,
     "metadata": {},
     "output_type": "execute_result"
    }
   ],
   "source": [
    "nars_df.loc[612]"
   ]
  },
  {
   "cell_type": "code",
   "execution_count": 61,
   "metadata": {},
   "outputs": [],
   "source": [
    "# nars_df['net_incurred'] = pd.to_numeric(nars_df['net_incurred'], downcast='float', errors='coerce')\n",
    "# nars_df['net_incurred'].dtype\n",
    "# nars_df['net_incurred']"
   ]
  },
  {
   "cell_type": "code",
   "execution_count": 62,
   "metadata": {},
   "outputs": [],
   "source": [
    "# gsn_df.sort_values(by='eff_year', ascending=False)"
   ]
  },
  {
   "cell_type": "code",
   "execution_count": 63,
   "metadata": {},
   "outputs": [
    {
     "data": {
      "text/html": [
       "<div>\n",
       "<style scoped>\n",
       "    .dataframe tbody tr th:only-of-type {\n",
       "        vertical-align: middle;\n",
       "    }\n",
       "\n",
       "    .dataframe tbody tr th {\n",
       "        vertical-align: top;\n",
       "    }\n",
       "\n",
       "    .dataframe thead th {\n",
       "        text-align: right;\n",
       "    }\n",
       "</style>\n",
       "<table border=\"1\" class=\"dataframe\">\n",
       "  <thead>\n",
       "    <tr style=\"text-align: right;\">\n",
       "      <th></th>\n",
       "      <th>cat_nbr</th>\n",
       "      <th>ind_paid</th>\n",
       "      <th>med_paid</th>\n",
       "      <th>exp_paid</th>\n",
       "      <th>alae_paid</th>\n",
       "      <th>ulae_paid</th>\n",
       "      <th>ind_reserve</th>\n",
       "      <th>med_reserve</th>\n",
       "      <th>exp_reserve</th>\n",
       "      <th>net_incurred</th>\n",
       "    </tr>\n",
       "    <tr>\n",
       "      <th>eff_year</th>\n",
       "      <th></th>\n",
       "      <th></th>\n",
       "      <th></th>\n",
       "      <th></th>\n",
       "      <th></th>\n",
       "      <th></th>\n",
       "      <th></th>\n",
       "      <th></th>\n",
       "      <th></th>\n",
       "      <th></th>\n",
       "    </tr>\n",
       "  </thead>\n",
       "  <tbody>\n",
       "    <tr>\n",
       "      <td>2018</td>\n",
       "      <td>0.0</td>\n",
       "      <td>0.000000</td>\n",
       "      <td>0.0</td>\n",
       "      <td>11.000000</td>\n",
       "      <td>11.000000</td>\n",
       "      <td>0.0</td>\n",
       "      <td>0.000000</td>\n",
       "      <td>0.0</td>\n",
       "      <td>0.000000</td>\n",
       "      <td>11.000000</td>\n",
       "    </tr>\n",
       "    <tr>\n",
       "      <td>2019</td>\n",
       "      <td>0.0</td>\n",
       "      <td>10068.917302</td>\n",
       "      <td>0.0</td>\n",
       "      <td>1030.078889</td>\n",
       "      <td>674.412222</td>\n",
       "      <td>0.0</td>\n",
       "      <td>17198.040317</td>\n",
       "      <td>0.0</td>\n",
       "      <td>1308.701905</td>\n",
       "      <td>29605.738413</td>\n",
       "    </tr>\n",
       "    <tr>\n",
       "      <td>2020</td>\n",
       "      <td>0.0</td>\n",
       "      <td>1840.826667</td>\n",
       "      <td>0.0</td>\n",
       "      <td>258.440000</td>\n",
       "      <td>258.440000</td>\n",
       "      <td>0.0</td>\n",
       "      <td>1752.295000</td>\n",
       "      <td>0.0</td>\n",
       "      <td>1250.000000</td>\n",
       "      <td>5101.561667</td>\n",
       "    </tr>\n",
       "  </tbody>\n",
       "</table>\n",
       "</div>"
      ],
      "text/plain": [
       "          cat_nbr      ind_paid  med_paid     exp_paid   alae_paid  ulae_paid  \\\n",
       "eff_year                                                                        \n",
       "2018          0.0      0.000000       0.0    11.000000   11.000000        0.0   \n",
       "2019          0.0  10068.917302       0.0  1030.078889  674.412222        0.0   \n",
       "2020          0.0   1840.826667       0.0   258.440000  258.440000        0.0   \n",
       "\n",
       "           ind_reserve  med_reserve  exp_reserve  net_incurred  \n",
       "eff_year                                                        \n",
       "2018          0.000000          0.0     0.000000     11.000000  \n",
       "2019      17198.040317          0.0  1308.701905  29605.738413  \n",
       "2020       1752.295000          0.0  1250.000000   5101.561667  "
      ]
     },
     "execution_count": 63,
     "metadata": {},
     "output_type": "execute_result"
    }
   ],
   "source": [
    "gsn_df.groupby(['eff_year']).mean()"
   ]
  },
  {
   "cell_type": "code",
   "execution_count": 64,
   "metadata": {},
   "outputs": [
    {
     "data": {
      "text/plain": [
       "0.0"
      ]
     },
     "execution_count": 64,
     "metadata": {},
     "output_type": "execute_result"
    }
   ],
   "source": [
    "pd.Series([]).sum()"
   ]
  },
  {
   "cell_type": "code",
   "execution_count": 65,
   "metadata": {},
   "outputs": [],
   "source": [
    "gsn_year_df = pd.concat([gsn_df['claim_nbr'],gsn_df['eff_year'], gsn_df['net_incurred']], axis=1, keys=['Claim_Number','eff_year', 'net_incurred'])"
   ]
  },
  {
   "cell_type": "code",
   "execution_count": 66,
   "metadata": {},
   "outputs": [
    {
     "data": {
      "text/plain": [
       "3291         0.00\n",
       "3292     35668.50\n",
       "3293      3098.40\n",
       "3294       147.00\n",
       "3295      2630.64\n",
       "3296      7371.53\n",
       "3297       231.00\n",
       "3298         0.00\n",
       "3299       546.00\n",
       "3300         0.00\n",
       "3301      4427.00\n",
       "3302        11.00\n",
       "3303      2742.03\n",
       "3304       693.00\n",
       "3305      1134.00\n",
       "3306     14827.79\n",
       "3307     16512.01\n",
       "3308      4485.13\n",
       "3309      1041.50\n",
       "3310      4402.51\n",
       "3311     19682.65\n",
       "3312         0.00\n",
       "3313      1291.50\n",
       "3314      9386.98\n",
       "3315      4528.94\n",
       "3316    205000.00\n",
       "3317     13727.29\n",
       "3318     40000.00\n",
       "3319     21620.00\n",
       "3320      2500.00\n",
       "3321     41500.00\n",
       "3322     43000.00\n",
       "3323      1383.83\n",
       "3324      1521.70\n",
       "3325      4500.00\n",
       "3326      5500.00\n",
       "3327         0.00\n",
       "3328         0.00\n",
       "3329      3000.00\n",
       "3330      1255.73\n",
       "3331    505000.00\n",
       "3332         0.00\n",
       "3333     12000.00\n",
       "3334     46900.00\n",
       "3335     47000.00\n",
       "3336         0.00\n",
       "3337     15000.00\n",
       "3338        15.00\n",
       "3339        15.00\n",
       "3340      8708.92\n",
       "3341       758.40\n",
       "3342        15.00\n",
       "3343    613868.00\n",
       "3344      1254.94\n",
       "3345     20000.00\n",
       "3346     18500.00\n",
       "3347     10049.97\n",
       "3348      8000.00\n",
       "3349        15.00\n",
       "3350     25000.00\n",
       "3351     10500.00\n",
       "3352      5000.00\n",
       "3353      2800.00\n",
       "3354     14500.00\n",
       "3355      2501.00\n",
       "3356      2501.00\n",
       "3357         0.00\n",
       "3358      2501.00\n",
       "3359      1009.00\n",
       "3360      1501.00\n",
       "3361      1501.00\n",
       "Name: net_incurred, dtype: float64"
      ]
     },
     "execution_count": 66,
     "metadata": {},
     "output_type": "execute_result"
    }
   ],
   "source": [
    "pd.to_numeric(gsn_year_df['net_incurred'], downcast='signed')"
   ]
  },
  {
   "cell_type": "code",
   "execution_count": 68,
   "metadata": {},
   "outputs": [
    {
     "data": {
      "text/html": [
       "<div>\n",
       "<style scoped>\n",
       "    .dataframe tbody tr th:only-of-type {\n",
       "        vertical-align: middle;\n",
       "    }\n",
       "\n",
       "    .dataframe tbody tr th {\n",
       "        vertical-align: top;\n",
       "    }\n",
       "\n",
       "    .dataframe thead th {\n",
       "        text-align: right;\n",
       "    }\n",
       "</style>\n",
       "<table border=\"1\" class=\"dataframe\">\n",
       "  <thead>\n",
       "    <tr style=\"text-align: right;\">\n",
       "      <th></th>\n",
       "      <th>net_incurred</th>\n",
       "    </tr>\n",
       "    <tr>\n",
       "      <th>eff_year</th>\n",
       "      <th></th>\n",
       "    </tr>\n",
       "  </thead>\n",
       "  <tbody>\n",
       "    <tr>\n",
       "      <td>2018</td>\n",
       "      <td>11.00</td>\n",
       "    </tr>\n",
       "    <tr>\n",
       "      <td>2019</td>\n",
       "      <td>1865161.52</td>\n",
       "    </tr>\n",
       "    <tr>\n",
       "      <td>2020</td>\n",
       "      <td>30609.37</td>\n",
       "    </tr>\n",
       "  </tbody>\n",
       "</table>\n",
       "</div>"
      ],
      "text/plain": [
       "          net_incurred\n",
       "eff_year              \n",
       "2018             11.00\n",
       "2019        1865161.52\n",
       "2020          30609.37"
      ]
     },
     "execution_count": 68,
     "metadata": {},
     "output_type": "execute_result"
    }
   ],
   "source": [
    "gsn_year_df.groupby(['eff_year']).sum()"
   ]
  },
  {
   "cell_type": "code",
   "execution_count": 38,
   "metadata": {},
   "outputs": [],
   "source": [
    "gsn_year_df = gsn_year_df.infer_objects()"
   ]
  },
  {
   "cell_type": "code",
   "execution_count": 39,
   "metadata": {},
   "outputs": [
    {
     "name": "stdout",
     "output_type": "stream",
     "text": [
      "Claim_Number           object\n",
      "eff_year        period[A-DEC]\n",
      "Net_Incurred           object\n",
      "dtype: object\n"
     ]
    }
   ],
   "source": [
    "print(gsn_year_df.dtypes)"
   ]
  },
  {
   "cell_type": "code",
   "execution_count": null,
   "metadata": {},
   "outputs": [],
   "source": []
  }
 ],
 "metadata": {
  "kernelspec": {
   "display_name": "Python 3",
   "language": "python",
   "name": "python3"
  },
  "language_info": {
   "codemirror_mode": {
    "name": "ipython",
    "version": 3
   },
   "file_extension": ".py",
   "mimetype": "text/x-python",
   "name": "python",
   "nbconvert_exporter": "python",
   "pygments_lexer": "ipython3",
   "version": "3.7.4"
  }
 },
 "nbformat": 4,
 "nbformat_minor": 2
}
