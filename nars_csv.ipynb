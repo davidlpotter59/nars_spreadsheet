{
 "cells": [
  {
   "cell_type": "code",
   "execution_count": 29,
   "metadata": {},
   "outputs": [
    {
     "name": "stdout",
     "output_type": "stream",
     "text": [
      "20200331\n"
     ]
    }
   ],
   "source": [
    "import pandas as pd\n",
    "import os\n",
    "import time\n",
    "import datetime\n",
    "\n",
    "datestr = time.strftime(\"%Y%m%d_%H%M%S\")\n",
    "\n",
    "# Calculate the last day of the previous month for the Accounting Date\n",
    "today = datetime.date.today()\n",
    "first = today.replace(day=1)\n",
    "lastMonth = first - datetime.timedelta(days=1)\n",
    "accdate = lastMonth.strftime(\"%Y%m%d\")\n",
    "print(accdate)\n",
    "\n",
    "xlxs_file = accdate + \"_\" + datestr+\"_nars_panda.xlsx\"\n",
    "input_file = \"nars.csv\"\n",
    "\n",
    "if os.path.exists(xlxs_file):\n",
    "    os.remove(xlsx_file)\n",
    "# else:\n",
    "#     print(\"Can not delete the file as it doesn't exists\")\n",
    "    \n",
    "nars_df = pd.read_csv(input_file, sep='|', header=0, encoding = \"ISO-8859-1\")"
   ]
  },
  {
   "cell_type": "code",
   "execution_count": 16,
   "metadata": {},
   "outputs": [],
   "source": [
    "# had to search for DELOS using the .contains since the client location contains a space \n",
    "delos_df = nars_df[nars_df['client_location'].str.contains(\"104\")] \n",
    "starr_df = nars_df[nars_df.client_location=='SILC']\n",
    "axis_df = nars_df[nars_df.client_location==\"AX1\"]\n",
    "gsn_df = nars_df[nars_df.client_location==\"SC2\"]"
   ]
  },
  {
   "cell_type": "code",
   "execution_count": 17,
   "metadata": {},
   "outputs": [],
   "source": [
    "with pd.ExcelWriter(xlsx_file) as writer:  \n",
    "    nars_df.to_excel(writer, sheet_name=\"All - Detail\")\n",
    "    delos_df.to_excel(writer, sheet_name='DELOS - Detail')\n",
    "    starr_df.to_excel(writer, sheet_name='STARR - Detail')\n",
    "    axis_df.to_excel(writer, sheet_name='AXIS - Detail')\n",
    "    gsn_df.to_excel(writer, sheet_name='GSN - Detail')"
   ]
  },
  {
   "cell_type": "code",
   "execution_count": null,
   "metadata": {},
   "outputs": [],
   "source": []
  }
 ],
 "metadata": {
  "kernelspec": {
   "display_name": "Python 3",
   "language": "python",
   "name": "python3"
  },
  "language_info": {
   "codemirror_mode": {
    "name": "ipython",
    "version": 3
   },
   "file_extension": ".py",
   "mimetype": "text/x-python",
   "name": "python",
   "nbconvert_exporter": "python",
   "pygments_lexer": "ipython3",
   "version": "3.7.4"
  }
 },
 "nbformat": 4,
 "nbformat_minor": 2
}
